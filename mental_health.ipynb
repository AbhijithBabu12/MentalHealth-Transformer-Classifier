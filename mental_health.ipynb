{
  "nbformat": 4,
  "nbformat_minor": 0,
  "metadata": {
    "colab": {
      "provenance": [],
      "gpuType": "T4"
    },
    "kernelspec": {
      "name": "python3",
      "display_name": "Python 3"
    },
    "language_info": {
      "name": "python"
    },
    "accelerator": "GPU"
  },
  "cells": [
    {
      "cell_type": "code",
      "execution_count": null,
      "metadata": {
        "colab": {
          "base_uri": "https://localhost:8080/"
        },
        "id": "j9rApFivuP4v",
        "outputId": "f946e999-8dd5-482b-e35c-67e7e2105b28"
      },
      "outputs": [
        {
          "output_type": "stream",
          "name": "stdout",
          "text": [
            "Found existing installation: torch 2.3.0\n",
            "Uninstalling torch-2.3.0:\n",
            "  Successfully uninstalled torch-2.3.0\n",
            "Found existing installation: torchtext 0.18.0\n",
            "Uninstalling torchtext-0.18.0:\n",
            "  Successfully uninstalled torchtext-0.18.0\n",
            "Found existing installation: torchvision 0.18.0\n",
            "Uninstalling torchvision-0.18.0:\n",
            "  Successfully uninstalled torchvision-0.18.0\n",
            "Found existing installation: torchaudio 2.3.0\n",
            "Uninstalling torchaudio-2.3.0:\n",
            "  Successfully uninstalled torchaudio-2.3.0\n",
            "Found existing installation: numpy 1.26.4\n",
            "Uninstalling numpy-1.26.4:\n",
            "  Successfully uninstalled numpy-1.26.4\n",
            "\u001b[31mERROR: pip's dependency resolver does not currently take into account all the packages that are installed. This behaviour is the source of the following dependency conflicts.\n",
            "opencv-python 4.12.0.88 requires numpy<2.3.0,>=2; python_version >= \"3.9\", but you have numpy 1.26.4 which is incompatible.\n",
            "opencv-contrib-python 4.12.0.88 requires numpy<2.3.0,>=2; python_version >= \"3.9\", but you have numpy 1.26.4 which is incompatible.\n",
            "opencv-python-headless 4.12.0.88 requires numpy<2.3.0,>=2; python_version >= \"3.9\", but you have numpy 1.26.4 which is incompatible.\n",
            "thinc 8.3.6 requires numpy<3.0.0,>=2.0.0, but you have numpy 1.26.4 which is incompatible.\u001b[0m\u001b[31m\n",
            "\u001b[0m"
          ]
        }
      ],
      "source": [
        "# -------------------------------\n",
        "# 1️⃣ Uninstall conflicting versions\n",
        "# -------------------------------\n",
        "!pip uninstall -y torch torchtext torchvision torchaudio numpy\n",
        "\n",
        "# -------------------------------\n",
        "# 2️⃣ Install compatible versions\n",
        "# For vanilla RNN + IMDB\n",
        "# torch 2.3.0, torchtext 0.18.0, torchvision/torchaudio matching\n",
        "# numpy 1.26.4 (avoids PyTorch errors)\n",
        "# -------------------------------\n",
        "!pip install torch==2.3.0 torchtext==0.18.0 torchvision==0.18.0 torchaudio==2.3.0 numpy==1.26.4 --quiet\n",
        "\n",
        "# -------------------------------\n",
        "# 3️⃣ Restart runtime (required to load new versions)\n",
        "# -------------------------------\n",
        "import os\n",
        "os.kill(os.getpid(), 9)  # This forces Colab to restart\n"
      ]
    },
    {
      "cell_type": "code",
      "source": [
        "import math, random\n",
        "import pandas as pd\n",
        "import numpy as np\n",
        "from sklearn.model_selection import train_test_split\n",
        "from sklearn.metrics import classification_report, accuracy_score"
      ],
      "metadata": {
        "id": "XAEQSWicx7Kb"
      },
      "execution_count": 1,
      "outputs": []
    },
    {
      "cell_type": "code",
      "source": [
        "import torch\n",
        "import torch.nn as nn\n",
        "from torch.utils.data import Dataset, DataLoader\n",
        "from torch.nn.utils.rnn import pad_sequence\n",
        "from torchtext.data.utils import get_tokenizer\n",
        "from torchtext.vocab import build_vocab_from_iterator"
      ],
      "metadata": {
        "colab": {
          "base_uri": "https://localhost:8080/"
        },
        "id": "pfmxybqByMD_",
        "outputId": "90106b30-1f9b-4947-974f-f8046e3d549a"
      },
      "execution_count": 2,
      "outputs": [
        {
          "output_type": "stream",
          "name": "stderr",
          "text": [
            "/usr/local/lib/python3.12/dist-packages/torchtext/data/__init__.py:4: UserWarning: \n",
            "/!\\ IMPORTANT WARNING ABOUT TORCHTEXT STATUS /!\\ \n",
            "Torchtext is deprecated and the last released version will be 0.18 (this one). You can silence this warning by calling the following at the beginnign of your scripts: `import torchtext; torchtext.disable_torchtext_deprecation_warning()`\n",
            "  warnings.warn(torchtext._TORCHTEXT_DEPRECATION_MSG)\n",
            "/usr/local/lib/python3.12/dist-packages/torchtext/vocab/__init__.py:4: UserWarning: \n",
            "/!\\ IMPORTANT WARNING ABOUT TORCHTEXT STATUS /!\\ \n",
            "Torchtext is deprecated and the last released version will be 0.18 (this one). You can silence this warning by calling the following at the beginnign of your scripts: `import torchtext; torchtext.disable_torchtext_deprecation_warning()`\n",
            "  warnings.warn(torchtext._TORCHTEXT_DEPRECATION_MSG)\n",
            "/usr/local/lib/python3.12/dist-packages/torchtext/utils.py:4: UserWarning: \n",
            "/!\\ IMPORTANT WARNING ABOUT TORCHTEXT STATUS /!\\ \n",
            "Torchtext is deprecated and the last released version will be 0.18 (this one). You can silence this warning by calling the following at the beginnign of your scripts: `import torchtext; torchtext.disable_torchtext_deprecation_warning()`\n",
            "  warnings.warn(torchtext._TORCHTEXT_DEPRECATION_MSG)\n"
          ]
        }
      ]
    },
    {
      "cell_type": "code",
      "source": [
        "RANDOM_SEED = 42\n",
        "torch.manual_seed(RANDOM_SEED)\n",
        "np.random.seed(RANDOM_SEED)\n",
        "random.seed(RANDOM_SEED)"
      ],
      "metadata": {
        "id": "FeZ4ZHlVyntc"
      },
      "execution_count": 3,
      "outputs": []
    },
    {
      "cell_type": "code",
      "source": [
        "df = pd.read_csv('mental.csv')\n",
        "df.head()"
      ],
      "metadata": {
        "colab": {
          "base_uri": "https://localhost:8080/",
          "height": 206
        },
        "id": "gJRl3cwZzBE6",
        "outputId": "f3d67dc5-ada9-4a16-e1d6-cc7e1b17abbd"
      },
      "execution_count": 42,
      "outputs": [
        {
          "output_type": "execute_result",
          "data": {
            "text/plain": [
              "   Unnamed: 0                                          statement   status\n",
              "0           0                                         oh my gosh  Anxiety\n",
              "1           1  trouble sleeping, confused mind, restless hear...  Anxiety\n",
              "2           2  All wrong, back off dear, forward doubt. Stay ...  Anxiety\n",
              "3           3  I've shifted my focus to something else but I'...  Anxiety\n",
              "4           4  I'm restless and restless, it's been a month n...  Anxiety"
            ],
            "text/html": [
              "\n",
              "  <div id=\"df-3691ab31-ed2f-4045-9e6f-c714341025ec\" class=\"colab-df-container\">\n",
              "    <div>\n",
              "<style scoped>\n",
              "    .dataframe tbody tr th:only-of-type {\n",
              "        vertical-align: middle;\n",
              "    }\n",
              "\n",
              "    .dataframe tbody tr th {\n",
              "        vertical-align: top;\n",
              "    }\n",
              "\n",
              "    .dataframe thead th {\n",
              "        text-align: right;\n",
              "    }\n",
              "</style>\n",
              "<table border=\"1\" class=\"dataframe\">\n",
              "  <thead>\n",
              "    <tr style=\"text-align: right;\">\n",
              "      <th></th>\n",
              "      <th>Unnamed: 0</th>\n",
              "      <th>statement</th>\n",
              "      <th>status</th>\n",
              "    </tr>\n",
              "  </thead>\n",
              "  <tbody>\n",
              "    <tr>\n",
              "      <th>0</th>\n",
              "      <td>0</td>\n",
              "      <td>oh my gosh</td>\n",
              "      <td>Anxiety</td>\n",
              "    </tr>\n",
              "    <tr>\n",
              "      <th>1</th>\n",
              "      <td>1</td>\n",
              "      <td>trouble sleeping, confused mind, restless hear...</td>\n",
              "      <td>Anxiety</td>\n",
              "    </tr>\n",
              "    <tr>\n",
              "      <th>2</th>\n",
              "      <td>2</td>\n",
              "      <td>All wrong, back off dear, forward doubt. Stay ...</td>\n",
              "      <td>Anxiety</td>\n",
              "    </tr>\n",
              "    <tr>\n",
              "      <th>3</th>\n",
              "      <td>3</td>\n",
              "      <td>I've shifted my focus to something else but I'...</td>\n",
              "      <td>Anxiety</td>\n",
              "    </tr>\n",
              "    <tr>\n",
              "      <th>4</th>\n",
              "      <td>4</td>\n",
              "      <td>I'm restless and restless, it's been a month n...</td>\n",
              "      <td>Anxiety</td>\n",
              "    </tr>\n",
              "  </tbody>\n",
              "</table>\n",
              "</div>\n",
              "    <div class=\"colab-df-buttons\">\n",
              "\n",
              "  <div class=\"colab-df-container\">\n",
              "    <button class=\"colab-df-convert\" onclick=\"convertToInteractive('df-3691ab31-ed2f-4045-9e6f-c714341025ec')\"\n",
              "            title=\"Convert this dataframe to an interactive table.\"\n",
              "            style=\"display:none;\">\n",
              "\n",
              "  <svg xmlns=\"http://www.w3.org/2000/svg\" height=\"24px\" viewBox=\"0 -960 960 960\">\n",
              "    <path d=\"M120-120v-720h720v720H120Zm60-500h600v-160H180v160Zm220 220h160v-160H400v160Zm0 220h160v-160H400v160ZM180-400h160v-160H180v160Zm440 0h160v-160H620v160ZM180-180h160v-160H180v160Zm440 0h160v-160H620v160Z\"/>\n",
              "  </svg>\n",
              "    </button>\n",
              "\n",
              "  <style>\n",
              "    .colab-df-container {\n",
              "      display:flex;\n",
              "      gap: 12px;\n",
              "    }\n",
              "\n",
              "    .colab-df-convert {\n",
              "      background-color: #E8F0FE;\n",
              "      border: none;\n",
              "      border-radius: 50%;\n",
              "      cursor: pointer;\n",
              "      display: none;\n",
              "      fill: #1967D2;\n",
              "      height: 32px;\n",
              "      padding: 0 0 0 0;\n",
              "      width: 32px;\n",
              "    }\n",
              "\n",
              "    .colab-df-convert:hover {\n",
              "      background-color: #E2EBFA;\n",
              "      box-shadow: 0px 1px 2px rgba(60, 64, 67, 0.3), 0px 1px 3px 1px rgba(60, 64, 67, 0.15);\n",
              "      fill: #174EA6;\n",
              "    }\n",
              "\n",
              "    .colab-df-buttons div {\n",
              "      margin-bottom: 4px;\n",
              "    }\n",
              "\n",
              "    [theme=dark] .colab-df-convert {\n",
              "      background-color: #3B4455;\n",
              "      fill: #D2E3FC;\n",
              "    }\n",
              "\n",
              "    [theme=dark] .colab-df-convert:hover {\n",
              "      background-color: #434B5C;\n",
              "      box-shadow: 0px 1px 3px 1px rgba(0, 0, 0, 0.15);\n",
              "      filter: drop-shadow(0px 1px 2px rgba(0, 0, 0, 0.3));\n",
              "      fill: #FFFFFF;\n",
              "    }\n",
              "  </style>\n",
              "\n",
              "    <script>\n",
              "      const buttonEl =\n",
              "        document.querySelector('#df-3691ab31-ed2f-4045-9e6f-c714341025ec button.colab-df-convert');\n",
              "      buttonEl.style.display =\n",
              "        google.colab.kernel.accessAllowed ? 'block' : 'none';\n",
              "\n",
              "      async function convertToInteractive(key) {\n",
              "        const element = document.querySelector('#df-3691ab31-ed2f-4045-9e6f-c714341025ec');\n",
              "        const dataTable =\n",
              "          await google.colab.kernel.invokeFunction('convertToInteractive',\n",
              "                                                    [key], {});\n",
              "        if (!dataTable) return;\n",
              "\n",
              "        const docLinkHtml = 'Like what you see? Visit the ' +\n",
              "          '<a target=\"_blank\" href=https://colab.research.google.com/notebooks/data_table.ipynb>data table notebook</a>'\n",
              "          + ' to learn more about interactive tables.';\n",
              "        element.innerHTML = '';\n",
              "        dataTable['output_type'] = 'display_data';\n",
              "        await google.colab.output.renderOutput(dataTable, element);\n",
              "        const docLink = document.createElement('div');\n",
              "        docLink.innerHTML = docLinkHtml;\n",
              "        element.appendChild(docLink);\n",
              "      }\n",
              "    </script>\n",
              "  </div>\n",
              "\n",
              "\n",
              "    <div id=\"df-8f299d36-8b72-49fc-8abf-6375a8426998\">\n",
              "      <button class=\"colab-df-quickchart\" onclick=\"quickchart('df-8f299d36-8b72-49fc-8abf-6375a8426998')\"\n",
              "                title=\"Suggest charts\"\n",
              "                style=\"display:none;\">\n",
              "\n",
              "<svg xmlns=\"http://www.w3.org/2000/svg\" height=\"24px\"viewBox=\"0 0 24 24\"\n",
              "     width=\"24px\">\n",
              "    <g>\n",
              "        <path d=\"M19 3H5c-1.1 0-2 .9-2 2v14c0 1.1.9 2 2 2h14c1.1 0 2-.9 2-2V5c0-1.1-.9-2-2-2zM9 17H7v-7h2v7zm4 0h-2V7h2v10zm4 0h-2v-4h2v4z\"/>\n",
              "    </g>\n",
              "</svg>\n",
              "      </button>\n",
              "\n",
              "<style>\n",
              "  .colab-df-quickchart {\n",
              "      --bg-color: #E8F0FE;\n",
              "      --fill-color: #1967D2;\n",
              "      --hover-bg-color: #E2EBFA;\n",
              "      --hover-fill-color: #174EA6;\n",
              "      --disabled-fill-color: #AAA;\n",
              "      --disabled-bg-color: #DDD;\n",
              "  }\n",
              "\n",
              "  [theme=dark] .colab-df-quickchart {\n",
              "      --bg-color: #3B4455;\n",
              "      --fill-color: #D2E3FC;\n",
              "      --hover-bg-color: #434B5C;\n",
              "      --hover-fill-color: #FFFFFF;\n",
              "      --disabled-bg-color: #3B4455;\n",
              "      --disabled-fill-color: #666;\n",
              "  }\n",
              "\n",
              "  .colab-df-quickchart {\n",
              "    background-color: var(--bg-color);\n",
              "    border: none;\n",
              "    border-radius: 50%;\n",
              "    cursor: pointer;\n",
              "    display: none;\n",
              "    fill: var(--fill-color);\n",
              "    height: 32px;\n",
              "    padding: 0;\n",
              "    width: 32px;\n",
              "  }\n",
              "\n",
              "  .colab-df-quickchart:hover {\n",
              "    background-color: var(--hover-bg-color);\n",
              "    box-shadow: 0 1px 2px rgba(60, 64, 67, 0.3), 0 1px 3px 1px rgba(60, 64, 67, 0.15);\n",
              "    fill: var(--button-hover-fill-color);\n",
              "  }\n",
              "\n",
              "  .colab-df-quickchart-complete:disabled,\n",
              "  .colab-df-quickchart-complete:disabled:hover {\n",
              "    background-color: var(--disabled-bg-color);\n",
              "    fill: var(--disabled-fill-color);\n",
              "    box-shadow: none;\n",
              "  }\n",
              "\n",
              "  .colab-df-spinner {\n",
              "    border: 2px solid var(--fill-color);\n",
              "    border-color: transparent;\n",
              "    border-bottom-color: var(--fill-color);\n",
              "    animation:\n",
              "      spin 1s steps(1) infinite;\n",
              "  }\n",
              "\n",
              "  @keyframes spin {\n",
              "    0% {\n",
              "      border-color: transparent;\n",
              "      border-bottom-color: var(--fill-color);\n",
              "      border-left-color: var(--fill-color);\n",
              "    }\n",
              "    20% {\n",
              "      border-color: transparent;\n",
              "      border-left-color: var(--fill-color);\n",
              "      border-top-color: var(--fill-color);\n",
              "    }\n",
              "    30% {\n",
              "      border-color: transparent;\n",
              "      border-left-color: var(--fill-color);\n",
              "      border-top-color: var(--fill-color);\n",
              "      border-right-color: var(--fill-color);\n",
              "    }\n",
              "    40% {\n",
              "      border-color: transparent;\n",
              "      border-right-color: var(--fill-color);\n",
              "      border-top-color: var(--fill-color);\n",
              "    }\n",
              "    60% {\n",
              "      border-color: transparent;\n",
              "      border-right-color: var(--fill-color);\n",
              "    }\n",
              "    80% {\n",
              "      border-color: transparent;\n",
              "      border-right-color: var(--fill-color);\n",
              "      border-bottom-color: var(--fill-color);\n",
              "    }\n",
              "    90% {\n",
              "      border-color: transparent;\n",
              "      border-bottom-color: var(--fill-color);\n",
              "    }\n",
              "  }\n",
              "</style>\n",
              "\n",
              "      <script>\n",
              "        async function quickchart(key) {\n",
              "          const quickchartButtonEl =\n",
              "            document.querySelector('#' + key + ' button');\n",
              "          quickchartButtonEl.disabled = true;  // To prevent multiple clicks.\n",
              "          quickchartButtonEl.classList.add('colab-df-spinner');\n",
              "          try {\n",
              "            const charts = await google.colab.kernel.invokeFunction(\n",
              "                'suggestCharts', [key], {});\n",
              "          } catch (error) {\n",
              "            console.error('Error during call to suggestCharts:', error);\n",
              "          }\n",
              "          quickchartButtonEl.classList.remove('colab-df-spinner');\n",
              "          quickchartButtonEl.classList.add('colab-df-quickchart-complete');\n",
              "        }\n",
              "        (() => {\n",
              "          let quickchartButtonEl =\n",
              "            document.querySelector('#df-8f299d36-8b72-49fc-8abf-6375a8426998 button');\n",
              "          quickchartButtonEl.style.display =\n",
              "            google.colab.kernel.accessAllowed ? 'block' : 'none';\n",
              "        })();\n",
              "      </script>\n",
              "    </div>\n",
              "\n",
              "    </div>\n",
              "  </div>\n"
            ],
            "application/vnd.google.colaboratory.intrinsic+json": {
              "type": "dataframe",
              "variable_name": "df",
              "summary": "{\n  \"name\": \"df\",\n  \"rows\": 53043,\n  \"fields\": [\n    {\n      \"column\": \"Unnamed: 0\",\n      \"properties\": {\n        \"dtype\": \"number\",\n        \"std\": 15312,\n        \"min\": 0,\n        \"max\": 53042,\n        \"num_unique_values\": 53043,\n        \"samples\": [\n          22261,\n          41400,\n          20065\n        ],\n        \"semantic_type\": \"\",\n        \"description\": \"\"\n      }\n    },\n    {\n      \"column\": \"statement\",\n      \"properties\": {\n        \"dtype\": \"string\",\n        \"num_unique_values\": 51073,\n        \"samples\": [\n          \"he's been a chain smoker for 30 years.\",\n          \"Dependence on therapist I attend IOP groups and individual therapy sessions at the same place, my therapist who I have worked with on and off for a year and a couple months just told me today that she is leaving soon and I am heartbroken. I love my therapist and I don't know how I am going to keep progressing without her. There will be a replacement for her but idk what to do, I don't want a different therapist. :(\",\n          \"These feelings constantly come back. Someone from my past that hurt me came back a month ago and once again disrespected me and i just feel like shit. Idk why these feelings keep resurfacing but it just hurts. I do not want to be over dramatic but Its hurts when you were nothing but loving/kind to someone and they disrespect you. I just hate feeling like this, feeling like i cannot trust anyone or that no one would ever truly love me unless i have something to offer. I am always worried about my looks and its just making me depressed. I really do not feel like i fit in with the world I am just here. Idk what my next step should be to get help but I am really going through it. (Yes I am in therapy) but how do i help myself ? I have been depressed/anxious for years and most day i do not even leave my house. But nobody around me seems to care and honestly I am tired of feeling this way. But at the same time i do not want to give up on myself bc i feel like I am here to be somebody great. I am just trying to find my way right now. It keeps coming back\"\n        ],\n        \"semantic_type\": \"\",\n        \"description\": \"\"\n      }\n    },\n    {\n      \"column\": \"status\",\n      \"properties\": {\n        \"dtype\": \"category\",\n        \"num_unique_values\": 7,\n        \"samples\": [\n          \"Anxiety\",\n          \"Normal\",\n          \"Bipolar\"\n        ],\n        \"semantic_type\": \"\",\n        \"description\": \"\"\n      }\n    }\n  ]\n}"
            }
          },
          "metadata": {},
          "execution_count": 42
        }
      ]
    },
    {
      "cell_type": "code",
      "source": [
        "df['status'].unique()"
      ],
      "metadata": {
        "colab": {
          "base_uri": "https://localhost:8080/"
        },
        "id": "uZX4uYXSzwxR",
        "outputId": "b4a739e3-cc9f-468c-b1ba-76925d20fa50"
      },
      "execution_count": 43,
      "outputs": [
        {
          "output_type": "execute_result",
          "data": {
            "text/plain": [
              "array(['Anxiety', 'Normal', 'Depression', 'Suicidal', 'Stress', 'Bipolar',\n",
              "       'Personality disorder'], dtype=object)"
            ]
          },
          "metadata": {},
          "execution_count": 43
        }
      ]
    },
    {
      "cell_type": "code",
      "source": [
        "device = torch.device('cuda' if torch.cuda.is_available() else 'cpu')\n",
        "print(device)"
      ],
      "metadata": {
        "colab": {
          "base_uri": "https://localhost:8080/"
        },
        "id": "t5MWo4sbzY9w",
        "outputId": "31278d4e-e55c-46a8-b9aa-ad611f95a066"
      },
      "execution_count": 44,
      "outputs": [
        {
          "output_type": "stream",
          "name": "stdout",
          "text": [
            "cuda\n"
          ]
        }
      ]
    },
    {
      "cell_type": "code",
      "source": [
        "texts = df['statement'].astype(str).tolist()\n",
        "labels = df['status'].astype(str).tolist()"
      ],
      "metadata": {
        "id": "HzxSC1bfzkGk"
      },
      "execution_count": 45,
      "outputs": []
    },
    {
      "cell_type": "code",
      "source": [
        "from sklearn.preprocessing import LabelEncoder\n",
        "\n",
        "label_encoder = LabelEncoder()\n",
        "y = label_encoder.fit_transform(labels)\n",
        "num_classes = len(label_encoder.classes_)\n",
        "print(\"Classes:\", label_encoder.classes_)"
      ],
      "metadata": {
        "colab": {
          "base_uri": "https://localhost:8080/"
        },
        "id": "1Ur5zWjnzwWO",
        "outputId": "27b5a567-9ed1-4454-ef2f-c4006ab01681"
      },
      "execution_count": 46,
      "outputs": [
        {
          "output_type": "stream",
          "name": "stdout",
          "text": [
            "Classes: ['Anxiety' 'Bipolar' 'Depression' 'Normal' 'Personality disorder' 'Stress'\n",
            " 'Suicidal']\n"
          ]
        }
      ]
    },
    {
      "cell_type": "code",
      "source": [
        "x_train, x_test, y_train, y_test = train_test_split(texts, y, test_size = 0.2, random_state = RANDOM_SEED, stratify = labels)\n"
      ],
      "metadata": {
        "id": "Y-rkMgexz_zJ"
      },
      "execution_count": 47,
      "outputs": []
    },
    {
      "cell_type": "code",
      "source": [
        "print(f'Train : {len(x_train)}, Test : {len(x_test)}')"
      ],
      "metadata": {
        "colab": {
          "base_uri": "https://localhost:8080/"
        },
        "id": "UaCYMXge1G0z",
        "outputId": "57afa7e8-3e4e-4620-f82f-f4a6732fc4e7"
      },
      "execution_count": 48,
      "outputs": [
        {
          "output_type": "stream",
          "name": "stdout",
          "text": [
            "Train : 42434, Test : 10609\n"
          ]
        }
      ]
    },
    {
      "cell_type": "code",
      "source": [
        "tokenizer = get_tokenizer('basic_english')\n",
        "\n",
        "def yield_tokens(data_iter):\n",
        "  for text in data_iter:\n",
        "    yield tokenizer(text)"
      ],
      "metadata": {
        "id": "tZ_JtVlA1VRx"
      },
      "execution_count": 49,
      "outputs": []
    },
    {
      "cell_type": "code",
      "source": [
        "vocab = build_vocab_from_iterator(yield_tokens(x_train), specials = ['<unk>', '<pad>'])\n",
        "vocab.set_default_index(vocab['<unk>'])\n",
        "PAD_IDX = vocab['<pad>']\n",
        "VOCAB_SIZE = len(vocab)\n",
        "print('Vocab size:', VOCAB_SIZE)"
      ],
      "metadata": {
        "colab": {
          "base_uri": "https://localhost:8080/"
        },
        "id": "Zky7ZZU9132T",
        "outputId": "4731b190-c3f5-4d4c-8b06-cf0b592a3806"
      },
      "execution_count": 50,
      "outputs": [
        {
          "output_type": "stream",
          "name": "stdout",
          "text": [
            "Vocab size: 64279\n"
          ]
        }
      ]
    },
    {
      "cell_type": "code",
      "source": [
        "class TextDataset(Dataset):\n",
        "  def __init__(self, texts, labels, vocab, tokenizer):\n",
        "    self.texts = texts\n",
        "    self.labels = labels\n",
        "    self.vocab = vocab\n",
        "    self.tokenizer = tokenizer\n",
        "\n",
        "  def __len__(self):\n",
        "    return len(self.texts)\n",
        "\n",
        "  def __getitem__(self, idx):\n",
        "    tokens = self.tokenizer(self.texts[idx])\n",
        "    ids = [self.vocab[t] for t in tokens]\n",
        "    return torch.tensor(ids, dtype = torch.long), torch.tensor(self.labels[idx], dtype = torch.long)"
      ],
      "metadata": {
        "id": "WnvKaZgP2q4j"
      },
      "execution_count": 51,
      "outputs": []
    },
    {
      "cell_type": "code",
      "source": [
        "max_len = 60"
      ],
      "metadata": {
        "id": "cwtP29Gz3Hji"
      },
      "execution_count": 52,
      "outputs": []
    },
    {
      "cell_type": "code",
      "source": [
        "def collate_fn(batch):\n",
        "  texts, labels = zip(*batch)\n",
        "  texts = [t[:max_len] for t in texts]\n",
        "  padded = pad_sequence(texts, batch_first=True, padding_value = PAD_IDX)\n",
        "  if padded.size(1) < max_len:\n",
        "    pad_extra = torch.full((padded.size(0), max_len - padded.size(1)), PAD_IDX, dtype = torch.long)\n",
        "    padded = torch.cat([padded, pad_extra], dim =1)\n",
        "  labels = torch.stack(labels)\n",
        "  key_padding_mask = (padded == PAD_IDX)\n",
        "  return padded, labels, key_padding_mask\n",
        "\n",
        "train_ds = TextDataset(x_train, y_train, vocab, tokenizer)\n",
        "test_ds = TextDataset(x_test, y_test, vocab, tokenizer)\n",
        "\n",
        "train_loader = DataLoader(train_ds, batch_size = 16, shuffle = True, collate_fn = collate_fn)\n",
        "test_loader = DataLoader(test_ds, batch_size = 16, shuffle = False, collate_fn = collate_fn)"
      ],
      "metadata": {
        "id": "oYzFr67F8zN0"
      },
      "execution_count": 68,
      "outputs": []
    },
    {
      "cell_type": "code",
      "source": [
        "class PositionalEncoding(nn.Module):\n",
        "  def __init__(self, d_model, max_len = 5000):\n",
        "    super().__init__()\n",
        "    pe = torch.zeros(max_len, d_model)\n",
        "    position = torch.arange(0, max_len).unsqueeze(1).float()\n",
        "    div_term = torch.exp(torch.arange(0, d_model, 2).float() * (-math.log(10000.0) / d_model))\n",
        "    pe[:, 0::2] = torch.sin(position * div_term)\n",
        "    pe[:, 1::2] = torch.cos(position * div_term)\n",
        "    pe = pe.unsqueeze(0)\n",
        "    self.register_buffer('pe', pe)\n",
        "\n",
        "  def forward(self, x):\n",
        "    return x + self.pe[:, :x.size(1), :]\n",
        ""
      ],
      "metadata": {
        "id": "JmR28Ze--ofh"
      },
      "execution_count": 69,
      "outputs": []
    },
    {
      "cell_type": "code",
      "source": [
        "class TransformerEncoder(nn.Module):\n",
        "  def __init__(self, embed_dim, num_heads, ff_hidden_dim, dropout):\n",
        "    super().__init__()\n",
        "    self.attn = nn.MultiheadAttention(embed_dim, num_heads, dropout = dropout, batch_first=True)\n",
        "    self.ff = nn.Sequential(\n",
        "        nn.Linear(embed_dim, ff_hidden_dim),\n",
        "        nn.ReLU(),\n",
        "        nn.Linear(ff_hidden_dim, embed_dim),\n",
        "    )\n",
        "    self.norm1 = nn.LayerNorm(embed_dim)\n",
        "    self.norm2 = nn.LayerNorm(embed_dim)\n",
        "    self.dropout = nn.Dropout(dropout)\n",
        "\n",
        "  def forward(self, x, key_padding_mask=None):\n",
        "    attn_out, _ = self.attn(x, x, x, key_padding_mask = key_padding_mask)\n",
        "    x = self.norm1(x + self.dropout(attn_out))\n",
        "    ff_out = self.ff(x)\n",
        "    x = self.norm2(x + self.dropout(ff_out))\n",
        "    return x"
      ],
      "metadata": {
        "id": "U77EAREUAJxP"
      },
      "execution_count": 70,
      "outputs": []
    },
    {
      "cell_type": "code",
      "source": [
        "class MiniTransformer(nn.Module):\n",
        "  def __init__(self, vocab_size, embed_dim, num_heads, ff_hidden_dim, num_layers, num_classes, pad_idx, dropout = 0.2):\n",
        "    super().__init__()\n",
        "    self.embedding = nn.Embedding(vocab_size, embed_dim, padding_idx= pad_idx)\n",
        "    self.pos_enc = PositionalEncoding(embed_dim)\n",
        "    self.layers = nn.ModuleList([\n",
        "        TransformerEncoder(embed_dim, num_heads, ff_hidden_dim, dropout)\n",
        "        for _ in range(num_layers)\n",
        "    ])\n",
        "    self.dropout = nn.Dropout(dropout)\n",
        "    self.fc = nn.Linear(embed_dim, num_classes)\n",
        "\n",
        "  def forward(self, x, key_padding_mask = None):\n",
        "    x = self.embedding(x)\n",
        "    x = self.pos_enc(x)\n",
        "    for layer in self.layers:\n",
        "      x = layer(x, key_padding_mask)\n",
        "    mask = ~key_padding_mask\n",
        "    pooled = (x * mask.unsqueeze(-1)).sum(1) / mask.sum(1, keepdim = True)\n",
        "    return self.fc(self.dropout(pooled))"
      ],
      "metadata": {
        "id": "tSdX1k86DGKJ"
      },
      "execution_count": 71,
      "outputs": []
    },
    {
      "cell_type": "code",
      "source": [
        "Embed_dim = 128\n",
        "Num_heads = 8\n",
        "FF_hidden = 256\n",
        "Num_layers = 3\n",
        "Lr = 1e-3\n",
        "epochs = 10"
      ],
      "metadata": {
        "id": "4uNcbEO_E1aU"
      },
      "execution_count": 84,
      "outputs": []
    },
    {
      "cell_type": "code",
      "source": [
        "model = MiniTransformer(VOCAB_SIZE, Embed_dim, Num_heads, FF_hidden, Num_layers, num_classes, pad_idx=PAD_IDX).to(device)"
      ],
      "metadata": {
        "id": "6_gRG2V_FTU5"
      },
      "execution_count": 85,
      "outputs": []
    },
    {
      "cell_type": "code",
      "source": [
        "loss_fn = nn.CrossEntropyLoss()\n",
        "optimizer = torch.optim.Adam(model.parameters(), lr = Lr)"
      ],
      "metadata": {
        "id": "XtrghbQSGqCt"
      },
      "execution_count": 86,
      "outputs": []
    },
    {
      "cell_type": "code",
      "source": [
        "print('Training on :', device)\n",
        "for epoch in range(epochs + 1):\n",
        "  model.train()\n",
        "  total_loss = 0\n",
        "  train_preds, train_true = [], []\n",
        "  for x, y, mask in train_loader:\n",
        "    x, y, mask = x.to(device), y.to(device), mask.to(device)\n",
        "    optimizer.zero_grad()\n",
        "    logits = model(x, mask)\n",
        "    loss = loss_fn(logits, y)\n",
        "    loss.backward()\n",
        "    optimizer.step()\n",
        "    total_loss += loss.item()\n",
        "    preds = logits.argmax(1).cpu().numpy()\n",
        "    train_preds.extend(preds)\n",
        "    train_true.extend(y.cpu().numpy())\n",
        "  avg_loss = total_loss / len(train_loader)\n",
        "  train_acc = accuracy_score(train_preds, train_true)\n",
        "  print(f'Epoch {epoch} | Train Loss: {avg_loss:.4f} | Train Accuracy: {train_acc:.4f}')"
      ],
      "metadata": {
        "colab": {
          "base_uri": "https://localhost:8080/"
        },
        "id": "jrbo9T2kG2Gn",
        "outputId": "dd9cc221-db23-48ea-9c01-68bf0a31bb75"
      },
      "execution_count": 87,
      "outputs": [
        {
          "output_type": "stream",
          "name": "stdout",
          "text": [
            "Training on : cuda\n",
            "Epoch 0 | Train Loss: 0.8655 | Train Accuracy: 0.6568\n",
            "Epoch 1 | Train Loss: 0.7158 | Train Accuracy: 0.7142\n",
            "Epoch 2 | Train Loss: 0.6670 | Train Accuracy: 0.7340\n",
            "Epoch 3 | Train Loss: 0.6343 | Train Accuracy: 0.7495\n",
            "Epoch 4 | Train Loss: 0.6131 | Train Accuracy: 0.7608\n",
            "Epoch 5 | Train Loss: 0.5865 | Train Accuracy: 0.7698\n",
            "Epoch 6 | Train Loss: 0.5721 | Train Accuracy: 0.7762\n",
            "Epoch 7 | Train Loss: 0.5609 | Train Accuracy: 0.7831\n",
            "Epoch 8 | Train Loss: 0.5445 | Train Accuracy: 0.7887\n",
            "Epoch 9 | Train Loss: 0.5466 | Train Accuracy: 0.7878\n",
            "Epoch 10 | Train Loss: 0.5439 | Train Accuracy: 0.7902\n"
          ]
        }
      ]
    },
    {
      "cell_type": "code",
      "source": [
        "model.eval()\n",
        "all_preds, all_true = [], []\n",
        "with torch.no_grad():\n",
        "  for x, y, mask in test_loader:\n",
        "    x, y, mask = x.to(device), y.to(device), mask.to(device)\n",
        "    logits = model(x, mask)\n",
        "    preds = logits.argmax(1).cpu().numpy()\n",
        "    all_preds.extend(preds)\n",
        "    all_true.extend(y.cpu().numpy())\n",
        "\n",
        "print('\\nTest Accuracy : ', accuracy_score(all_true, all_preds))\n",
        "print('\\nClassification Report : ', classification_report(all_true, all_preds))"
      ],
      "metadata": {
        "colab": {
          "base_uri": "https://localhost:8080/"
        },
        "id": "IjtbZ1SyJk_Q",
        "outputId": "a2ab3e5b-cd2d-41bc-c6fb-0aca991b2280"
      },
      "execution_count": 88,
      "outputs": [
        {
          "output_type": "stream",
          "name": "stdout",
          "text": [
            "\n",
            "Test Accuracy :  0.718823640305401\n",
            "\n",
            "Classification Report :                precision    recall  f1-score   support\n",
            "\n",
            "           0       0.71      0.71      0.71       778\n",
            "           1       0.68      0.68      0.68       575\n",
            "           2       0.72      0.58      0.64      3081\n",
            "           3       0.88      0.92      0.90      3270\n",
            "           4       0.83      0.22      0.34       240\n",
            "           5       0.44      0.51      0.47       534\n",
            "           6       0.58      0.73      0.65      2131\n",
            "\n",
            "    accuracy                           0.72     10609\n",
            "   macro avg       0.69      0.62      0.63     10609\n",
            "weighted avg       0.73      0.72      0.72     10609\n",
            "\n"
          ]
        }
      ]
    },
    {
      "cell_type": "code",
      "source": [
        "def predict(model, text):\n",
        "  model.eval()\n",
        "  toks = tokenizer(text)\n",
        "  ids = torch.tensor([vocab[t] for t in toks], dtype = torch.long).unsqueeze(0).to(device)\n",
        "  if ids.size(1) < max_len:\n",
        "    pad = torch.full((1, max_len - ids.size(1)), PAD_IDX, dtype = torch.long).to(device)\n",
        "    ids = torch.cat([ids, pad], dim = 1)\n",
        "  mask = (ids == PAD_IDX)\n",
        "  with torch.no_grad():\n",
        "    out = model(ids, mask)\n",
        "    pred = out.argmax(1).item()\n",
        "  return label_encoder.inverse_transform([pred])[0]\n"
      ],
      "metadata": {
        "id": "TM9HxG4PK0LK"
      },
      "execution_count": 89,
      "outputs": []
    },
    {
      "cell_type": "code",
      "source": [
        "samples = [\n",
        "    \"I am feeling so lonely\",\n",
        "    \"I've been so restless since this morning\",\n",
        "    \"I wish you all the best as well, from the bottom of my heart.\"\n",
        "]\n",
        "\n",
        "for s in samples:\n",
        "  print(f'{s} --> {predict(model, s)}')"
      ],
      "metadata": {
        "colab": {
          "base_uri": "https://localhost:8080/"
        },
        "id": "4ngXO46FMEN-",
        "outputId": "5f54ff5a-fc99-46dd-dba2-9a2cc6c96ee1"
      },
      "execution_count": 96,
      "outputs": [
        {
          "output_type": "stream",
          "name": "stdout",
          "text": [
            "I am feeling so lonely --> Suicidal\n",
            "I've been so restless since this morning --> Anxiety\n",
            "I wish you all the best as well, from the bottom of my heart. --> Normal\n"
          ]
        }
      ]
    }
  ]
}